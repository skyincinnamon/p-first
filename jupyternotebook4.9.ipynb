{
 "cells": [
  {
   "cell_type": "code",
   "execution_count": 1,
   "id": "ebf3cf6a",
   "metadata": {},
   "outputs": [
    {
     "name": "stdout",
     "output_type": "stream",
     "text": [
      "(1, 1.2, 3, 'cuc')\n",
      "[1, 1.2, 3, 'cuc']\n"
     ]
    }
   ],
   "source": [
    "#元组\n",
    "tupe1=(1,1.2,3,'cuc')\n",
    "list1=[1,1.2,3,'cuc']\n",
    "print(tupe1)\n",
    "print(list1)"
   ]
  },
  {
   "cell_type": "code",
   "execution_count": 2,
   "id": "71e6c2b4",
   "metadata": {},
   "outputs": [
    {
     "name": "stdout",
     "output_type": "stream",
     "text": [
      "[1, 2, 3, 4, 5, 8]\n"
     ]
    }
   ],
   "source": [
    "#列表排序\n",
    "mylist=[1,3,4,5,2,8]\n",
    "print(sorted(mylist))\n",
    "##列表从小到大排序"
   ]
  },
  {
   "cell_type": "code",
   "execution_count": 5,
   "id": "0148c8b3",
   "metadata": {},
   "outputs": [
    {
     "name": "stdout",
     "output_type": "stream",
     "text": [
      "[100, 95, 46, 78, 99, 76]\n",
      "78\n",
      "[100, 95, 46, 78, 99, 76, 50]\n"
     ]
    }
   ],
   "source": [
    "score_list=[100,95,46,78,99,76]\n",
    "print(score_list)\n",
    "print(score_list[3])\n",
    "score_list.append(50)\n",
    "print(score_list)"
   ]
  },
  {
   "cell_type": "code",
   "execution_count": 23,
   "id": "8bcddec6",
   "metadata": {},
   "outputs": [
    {
     "name": "stdout",
     "output_type": "stream",
     "text": [
      "{'Peter': 80, 'David': 90}\n",
      "dict_keys(['Peter', 'David'])\n",
      "dict_values([80, 90])\n"
     ]
    }
   ],
   "source": [
    "dict1 = {'Peter':80 ,'David':90}\n",
    "print(dict1)\n",
    "print(dict1.keys())\n",
    "print(dict1.values())"
   ]
  },
  {
   "cell_type": "code",
   "execution_count": 6,
   "id": "e9946046",
   "metadata": {},
   "outputs": [],
   "source": [
    "second_list=[12,65,34]\n",
    "second_list.append([1,'qwei love you','hahaha'])\n",
    "score_list.append(second_list)"
   ]
  },
  {
   "cell_type": "code",
   "execution_count": 10,
   "id": "66d630e5",
   "metadata": {},
   "outputs": [
    {
     "name": "stdout",
     "output_type": "stream",
     "text": [
      "[100, 95, 46, 78, 99, 76, 50]\n"
     ]
    }
   ],
   "source": []
  },
  {
   "cell_type": "code",
   "execution_count": 12,
   "id": "3e7d0630",
   "metadata": {},
   "outputs": [
    {
     "name": "stdout",
     "output_type": "stream",
     "text": [
      "[{'peter': 50, 'cinder': 100, 'mary': 80, 'cherry': 95}, {'peter': 70, 'cinder': 100, 'mary': 90, 'cherry': 97}]\n"
     ]
    }
   ],
   "source": [
    "test1={'peter':50,'cinder':100,'mary':80,'cherry':95}\n",
    "assignment={'peter':70,'cinder':100,'mary':90,'cherry':97}\n",
    "score_list=[]\n",
    "score_list.append(test1)\n",
    "score_list.append(assignment)\n",
    "print(score_list)"
   ]
  },
  {
   "cell_type": "code",
   "execution_count": 20,
   "id": "12d2ccd6",
   "metadata": {},
   "outputs": [
    {
     "name": "stdout",
     "output_type": "stream",
     "text": [
      "John makes 1950.0.\n",
      "Mike makes 0.0.\n",
      "Mary makes 2600.0.\n",
      "Jane makes 3750.0.\n"
     ]
    }
   ],
   "source": [
    "#range 循环的使用\n",
    "hrs_list=[30,0,40.0,50.0,60.0]\n",
    "rate_list = [65.0,75.0,65.0,75.0]\n",
    "name_list = ['John','Mike','Mary','Jane']\n",
    "fee_list=[]\n",
    "for number in range (len(name_list)):\n",
    "    hrs=hrs_list[number]\n",
    "    rate = rate_list[number]\n",
    "    fee = hrs * rate\n",
    "    fee_list.append(fee)\n",
    "    money_made = name_list[number] + \" makes \" + str(fee) + \".\"\n",
    "    print(money_made)\n",
    "\n"
   ]
  },
  {
   "cell_type": "code",
   "execution_count": 18,
   "id": "3a6cd47a",
   "metadata": {},
   "outputs": [
    {
     "name": "stdout",
     "output_type": "stream",
     "text": [
      "0 red\n",
      "1 green\n",
      "2 Blue is printed.\n",
      "3 orange\n",
      "4 black\n",
      "This is done\n"
     ]
    }
   ],
   "source": [
    "#range 循环的使用\n",
    "my_list=['red','green','blue','orange','black']\n",
    "index=0\n",
    "for i in my_list:\n",
    "    if i=='blue':\n",
    "        print(index,'Blue is printed.')\n",
    "        index+=1\n",
    "    else:\n",
    "        print(index,my_list[index])\n",
    "        index+=1\n",
    "print('This is done')\n",
    "    \n"
   ]
  },
  {
   "cell_type": "code",
   "execution_count": 16,
   "id": "cd22c70d",
   "metadata": {},
   "outputs": [
    {
     "name": "stdout",
     "output_type": "stream",
     "text": [
      "   Product ID Product Name  color  UnitsSold\n",
      "0           1      t-shirt   blue        250\n",
      "1           2       bluose    red        300\n",
      "2           3         Coat  green        180\n",
      "3           4        Jeans   pink        200\n"
     ]
    }
   ],
   "source": [
    "#PANdas 库的使用\n",
    "\n",
    "import pandas as pd\n",
    "df1 = pd.DataFrame({\n",
    "    'Product ID':[1,2,3,4],\n",
    "    'Product Name':['t-shirt','bluose','Coat','Jeans'],\n",
    "    'color':['blue','red','green','pink'],\n",
    "    'UnitsSold':[250,300,180,200] ,\n",
    "})\n",
    "\n",
    "print(df1)"
   ]
  },
  {
   "cell_type": "code",
   "execution_count": null,
   "id": "72e95bbc",
   "metadata": {},
   "outputs": [],
   "source": []
  }
 ],
 "metadata": {
  "kernelspec": {
   "display_name": "Python 3 (ipykernel)",
   "language": "python",
   "name": "python3"
  },
  "language_info": {
   "codemirror_mode": {
    "name": "ipython",
    "version": 3
   },
   "file_extension": ".py",
   "mimetype": "text/x-python",
   "name": "python",
   "nbconvert_exporter": "python",
   "pygments_lexer": "ipython3",
   "version": "3.9.13"
  }
 },
 "nbformat": 4,
 "nbformat_minor": 5
}
